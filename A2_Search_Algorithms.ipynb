{
  "nbformat": 4,
  "nbformat_minor": 0,
  "metadata": {
    "kernelspec": {
      "display_name": "Python 3",
      "language": "python",
      "name": "python3"
    },
    "language_info": {
      "codemirror_mode": {
        "name": "ipython",
        "version": 3
      },
      "file_extension": ".py",
      "mimetype": "text/x-python",
      "name": "python",
      "nbconvert_exporter": "python",
      "pygments_lexer": "ipython3",
      "version": "3.7.4"
    },
    "colab": {
      "provenance": [],
      "include_colab_link": true
    }
  },
  "cells": [
    {
      "cell_type": "markdown",
      "metadata": {
        "id": "view-in-github",
        "colab_type": "text"
      },
      "source": [
        "<a href=\"https://colab.research.google.com/github/giovanaribeirodefrancisco/Intelig-ncia-Artificial/blob/main/A2_Search_Algorithms.ipynb\" target=\"_parent\"><img src=\"https://colab.research.google.com/assets/colab-badge.svg\" alt=\"Open In Colab\"/></a>"
      ]
    },
    {
      "cell_type": "markdown",
      "metadata": {
        "id": "40b90843"
      },
      "source": [
        "<img src=\"http://meusite.mackenzie.br/rogerio/mackenzie_logo/UPM.2_horizontal_vermelho.jpg\"  width=300, align=\"right\">\n",
        "<br>\n",
        "<br>\n",
        "<br>\n",
        "<br>\n",
        "<br>\n",
        "\n",
        "# **Search Algorithms**\n",
        "---\n"
      ]
    },
    {
      "cell_type": "code",
      "metadata": {
        "id": "rYx9D4GZA5o9",
        "cellView": "form"
      },
      "source": [
        "#@title **Identificação do Grupo**\n",
        "\n",
        "#@markdown Integrantes do Grupo, nome completo em orgem alfabética (*informe \\<RA\\>,\\<nome\\>*)\n",
        "Aluno1 = '10297494, Giovana Ribeiro de Francisco' #@param {type:\"string\"}\n",
        "Aluno2 = '10402951, Leila Akina Ino' #@param {type:\"string\"}\n",
        "Aluno3 = '10400969, Letícia Moraes Gutierrez de Oliveira' #@param {type:\"string\"}\n",
        "Aluno4 = 'None' #@param {type:\"string\"}\n",
        "Aluno5 = 'None' #@param {type:\"string\"}\n",
        "\n"
      ],
      "execution_count": null,
      "outputs": []
    },
    {
      "cell_type": "markdown",
      "source": [
        "# **Resumo**\n",
        "\n",
        "*Apresente um parágrafo resumindo o que é feito neste trabalho*."
      ],
      "metadata": {
        "id": "JlCIc2YooBW7"
      }
    },
    {
      "cell_type": "markdown",
      "source": [
        "## Resumo\n",
        "Este trabalho implementa algoritmos de busca em grafos para encontrar rotas entre as cidades de São Paulo e Rio de Janeiro. O estudo utiliza um grafo de 15 cidades interconectadas ao longo da rota que liga estas duas metrópoles, representando as distâncias reais entre municípios adjacentes. Inicialmente, construímos e visualizamos o grafo utilizando a biblioteca NetworkX. Em seguida, implementaremos dois algoritmos de busca: um algoritmo não-informado (BFS - Breadth-First Search) e um algoritmo informado (A* - A-Star), comparando os resultados obtidos em termos de eficiência e qualidade das rotas encontradas."
      ],
      "metadata": {
        "id": "olfdHy5dwVkR"
      }
    },
    {
      "cell_type": "markdown",
      "source": [
        "# **Implementação**\n",
        "\n",
        "*Aqui o código da sua solução. Você deve explicar em linhas gerais o código. Para isso você pode quebrar o código em algumas partes e incluir células de texto explicativos. Não empregue para isso comentários no corpo do código, mas crie células de texto do notebook.*\n",
        "\n",
        "> ***ATENÇÃO: O código deve ser 100% executável no Colab e, portanto, não devem ser empregados arquivos locais (da sua máquina) e, se necessário, devem ser incluídos o install de novas bibliotecas empregadas.***\n",
        "\n"
      ],
      "metadata": {
        "id": "FyFHbT8vygVp"
      }
    },
    {
      "cell_type": "markdown",
      "source": [
        "## **1. Grafo das cidades (2,0)**"
      ],
      "metadata": {
        "id": "FfqBeY18MU2l"
      }
    },
    {
      "cell_type": "code",
      "source": [
        "# Seus Códigos aqui intercalados de células de texto com comentários"
      ],
      "metadata": {
        "id": "47WSkdIDxpjM"
      },
      "execution_count": null,
      "outputs": []
    },
    {
      "cell_type": "code",
      "source": [
        "# Importando as bibliotecas necessárias\n",
        "import networkx as nx\n",
        "import matplotlib.pyplot as plt\n",
        "import numpy as np\n",
        "from IPython.display import display, Markdown"
      ],
      "metadata": {
        "id": "4vS_eIM3uN8K"
      },
      "execution_count": null,
      "outputs": []
    },
    {
      "cell_type": "markdown",
      "source": [
        "#### Definindo as cidades e suas coordenadas\n",
        "Para representar adequadamente o grafo, precisamos definir as cidades e suas coordenadas geográficas (latitude e longitude). Estas coordenadas serão úteis tanto para a visualização do grafo quanto para calcular a heurística no algoritmo A* posteriormente."
      ],
      "metadata": {
        "id": "zNdBNJuXuP-V"
      }
    },
    {
      "cell_type": "code",
      "source": [
        "# Definindo as coordenadas geográficas aproximadas de cada cidade (latitude, longitude)\n",
        "coordenadas = {\n",
        "    \"São Paulo\": (-23.5505, -46.6333),\n",
        "    \"Campinas\": (-22.9056, -47.0608),\n",
        "    \"São José dos Campos\": (-23.1791, -45.8872),\n",
        "    \"Taubaté\": (-23.0104, -45.5593),\n",
        "    \"Aparecida\": (-22.8495, -45.2325),\n",
        "    \"Guaratinguetá\": (-22.8075, -45.1927),\n",
        "    \"Lorena\": (-22.7337, -45.1231),\n",
        "    \"Cachoeira Paulista\": (-22.6667, -45.0158),\n",
        "    \"Cruzeiro\": (-22.5758, -44.9692),\n",
        "    \"Resende\": (-22.4702, -44.4509),\n",
        "    \"Volta Redonda\": (-22.5202, -44.0996),\n",
        "    \"Barra Mansa\": (-22.5481, -44.1710),\n",
        "    \"Piraí\": (-22.6300, -43.8950),\n",
        "    \"Itaguaí\": (-22.8606, -43.7801),\n",
        "    \"Rio de Janeiro\": (-22.9068, -43.1729)\n",
        "}"
      ],
      "metadata": {
        "id": "EKhFC2eZuSAQ"
      },
      "execution_count": null,
      "outputs": []
    },
    {
      "cell_type": "markdown",
      "source": [
        "#### Criando o grafo com NetworkX\n",
        "Utilizamos a biblioteca NetworkX para criar o grafo, adicionar os nós (cidades) com suas respectivas posições e adicionar as arestas (conexões entre cidades) com seus pesos (distâncias em quilômetros):"
      ],
      "metadata": {
        "id": "e0l1KCXouTnO"
      }
    },
    {
      "cell_type": "code",
      "source": [
        "# Criando o grafo\n",
        "G = nx.Graph()\n",
        "\n",
        "# Adicionando nós com suas posições\n",
        "for cidade, coord in coordenadas.items():\n",
        "    G.add_node(cidade, pos=coord)\n",
        "\n",
        "# Adicionando arestas com distâncias (em km)\n",
        "arestas = [\n",
        "    (\"São Paulo\", \"Campinas\", 90),\n",
        "    (\"São Paulo\", \"São José dos Campos\", 97),\n",
        "    (\"São José dos Campos\", \"Taubaté\", 43),\n",
        "    (\"São José dos Campos\", \"Campinas\", 127),\n",
        "    (\"Taubaté\", \"Aparecida\", 42),\n",
        "    (\"Aparecida\", \"Guaratinguetá\", 11),\n",
        "    (\"Guaratinguetá\", \"Lorena\", 16),\n",
        "    (\"Lorena\", \"Cachoeira Paulista\", 15),\n",
        "    (\"Cachoeira Paulista\", \"Cruzeiro\", 10),\n",
        "    (\"Cruzeiro\", \"Resende\", 35),\n",
        "    (\"Resende\", \"Volta Redonda\", 43),\n",
        "    (\"Volta Redonda\", \"Barra Mansa\", 7),\n",
        "    (\"Barra Mansa\", \"Piraí\", 26),\n",
        "    (\"Piraí\", \"Itaguaí\", 46),\n",
        "    (\"Itaguaí\", \"Rio de Janeiro\", 70)\n",
        "]\n",
        "\n",
        "# Adicionando as arestas ao grafo\n",
        "G.add_weighted_edges_from([(u, v, w) for u, v, w in arestas])"
      ],
      "metadata": {
        "id": "H4vjM8zUuVZm"
      },
      "execution_count": null,
      "outputs": []
    },
    {
      "cell_type": "markdown",
      "source": [
        "#### Visualizando o grafo\n",
        "Para visualizar o grafo, extraímos as posições dos nós e utilizamos as funções de plotagem do NetworkX para mostrar as cidades e as distâncias entre elas:"
      ],
      "metadata": {
        "id": "RXQbFl1vuXGc"
      }
    },
    {
      "cell_type": "code",
      "source": [
        "# Extraindo posições dos nós para visualização\n",
        "pos = nx.get_node_attributes(G, 'pos')\n",
        "\n",
        "# Plotando o grafo\n",
        "plt.figure(figsize=(16, 8))\n",
        "nx.draw(G, pos, with_labels=True, node_size=700, node_color='skyblue', font_size=10, font_weight='bold')\n",
        "\n",
        "# Adicionando pesos às arestas no plot\n",
        "edge_labels = {(u, v): f\"{G[u][v]['weight']} km\" for u, v in G.edges()}\n",
        "nx.draw_networkx_edge_labels(G, pos, edge_labels=edge_labels, font_size=8)\n",
        "\n",
        "plt.title(\"Grafo de Cidades entre São Paulo e Rio de Janeiro\", fontsize=16)\n",
        "plt.axis('off')\n",
        "plt.tight_layout()\n",
        "plt.show()"
      ],
      "metadata": {
        "id": "iXFRCLwkuYgh"
      },
      "execution_count": null,
      "outputs": []
    },
    {
      "cell_type": "markdown",
      "source": [
        "> ## **1.1. Resultados (Testes)**\n",
        "\n",
        "*Um ou mais testes da solução devem ser apresentados ao final. Comente em células de texto explicativas os testes e os seus resultados.*"
      ],
      "metadata": {
        "id": "vO9xbwBTJDQ7"
      }
    },
    {
      "cell_type": "code",
      "source": [
        "# Seus Códigos aqui intercalados de células de texto com comentários"
      ],
      "metadata": {
        "id": "mVf_l2YTJPXY"
      },
      "execution_count": null,
      "outputs": []
    },
    {
      "cell_type": "code",
      "source": [
        "import networkx as nx\n",
        "import matplotlib.pyplot as plt\n",
        "import numpy as np\n",
        "\n",
        "# Coordenadas das cidades (latitude, longitude)\n",
        "coordenadas = {\n",
        "    \"São Paulo\": (-23.5505, -46.6333),\n",
        "    \"Campinas\": (-22.9064, -47.0616),\n",
        "    \"São José dos Campos\": (-23.1791, -45.8872),\n",
        "    \"Taubaté\": (-23.0268, -45.5557),\n",
        "    \"Aparecida\": (-22.8495, -45.2325),\n",
        "    \"Guaratinguetá\": (-22.8167, -45.1926),\n",
        "    \"Lorena\": (-22.7328, -45.1238),\n",
        "    \"Cachoeira Paulista\": (-22.6665, -44.9991),\n",
        "    \"Cruzeiro\": (-22.5734, -44.9689),\n",
        "    \"Resende\": (-22.4717, -44.4469),\n",
        "    \"Volta Redonda\": (-22.5202, -44.0950),\n",
        "    \"Barra Mansa\": (-22.5481, -44.1752),\n",
        "    \"Piraí\": (-22.6281, -43.8981),\n",
        "    \"Itaguaí\": (-22.8636, -43.7758),\n",
        "    \"Rio de Janeiro\": (-22.9068, -43.1729)\n",
        "}\n",
        "\n",
        "# Criando o grafo\n",
        "G = nx.Graph()\n",
        "\n",
        "# Adicionando nós com suas posições\n",
        "for cidade, coord in coordenadas.items():\n",
        "    G.add_node(cidade, pos=coord)\n",
        "\n",
        "# Adicionando arestas com distâncias (em km)\n",
        "arestas = [\n",
        "    (\"São Paulo\", \"Campinas\", 90),\n",
        "    (\"São Paulo\", \"São José dos Campos\", 97),\n",
        "    (\"São José dos Campos\", \"Taubaté\", 43),\n",
        "    (\"São José dos Campos\", \"Campinas\", 127),\n",
        "    (\"Taubaté\", \"Aparecida\", 42),\n",
        "    (\"Aparecida\", \"Guaratinguetá\", 11),\n",
        "    (\"Guaratinguetá\", \"Lorena\", 16),\n",
        "    (\"Lorena\", \"Cachoeira Paulista\", 15),\n",
        "    (\"Cachoeira Paulista\", \"Cruzeiro\", 10),\n",
        "    (\"Cruzeiro\", \"Resende\", 35),\n",
        "    (\"Resende\", \"Volta Redonda\", 43),\n",
        "    (\"Volta Redonda\", \"Barra Mansa\", 7),\n",
        "    (\"Barra Mansa\", \"Piraí\", 26),\n",
        "    (\"Piraí\", \"Itaguaí\", 46),\n",
        "    (\"Itaguaí\", \"Rio de Janeiro\", 70)\n",
        "]\n",
        "\n",
        "# Adicionando as arestas ao grafo\n",
        "G.add_weighted_edges_from([(u, v, w) for u, v, w in arestas])\n",
        "\n",
        "# Extraindo informações do grafo\n",
        "num_cidades = G.number_of_nodes()\n",
        "num_conexoes = G.number_of_edges()\n",
        "total_distancia = sum(G[u][v]['weight'] for u, v in G.edges())\n",
        "\n",
        "print(f\"Número de cidades no grafo: {num_cidades}\")\n",
        "print(f\"Número de conexões: {num_conexoes}\")\n",
        "print(f\"Distância total de todas as conexões: {total_distancia} km\")\n",
        "\n",
        "# Exibindo todas as distâncias entre cidades adjacentes\n",
        "print(\"\\nDistâncias entre cidades adjacentes:\")\n",
        "for u, v, data in G.edges(data=True):\n",
        "    print(f\"{u} -> {v}: {data['weight']} km\")\n",
        "\n",
        "# Visualizando o grafo\n",
        "plt.figure(figsize=(12, 8))\n",
        "pos = nx.get_node_attributes(G, 'pos')\n",
        "\n",
        "# Ajustando coordenadas para visualização (invertendo longitude para parecer com mapa)\n",
        "pos_vis = {city: (-lon, lat) for city, (lat, lon) in pos.items()}\n",
        "\n",
        "nx.draw(G, pos_vis, with_labels=True, node_size=700, node_color='lightblue',\n",
        "        font_size=8, font_weight='bold', edge_color='gray')\n",
        "\n",
        "# Adicionando pesos nas arestas\n",
        "edge_labels = {(u, v): f\"{d['weight']} km\" for u, v, d in G.edges(data=True)}\n",
        "nx.draw_networkx_edge_labels(G, pos_vis, edge_labels=edge_labels, font_size=7)\n",
        "\n",
        "plt.title(\"Grafo de Cidades entre São Paulo e Rio de Janeiro\")\n",
        "plt.show()"
      ],
      "metadata": {
        "colab": {
          "base_uri": "https://localhost:8080/",
          "height": 1000
        },
        "id": "9w8eev_7ue3q",
        "outputId": "20e021cd-0248-4e90-fdbf-1cedaa14db3c"
      },
      "execution_count": 13,
      "outputs": [
        {
          "output_type": "stream",
          "name": "stdout",
          "text": [
            "Número de cidades no grafo: 15\n",
            "Número de conexões: 15\n",
            "Distância total de todas as conexões: 678 km\n",
            "\n",
            "Distâncias entre cidades adjacentes:\n",
            "São Paulo -> Campinas: 90 km\n",
            "São Paulo -> São José dos Campos: 97 km\n",
            "Campinas -> São José dos Campos: 127 km\n",
            "São José dos Campos -> Taubaté: 43 km\n",
            "Taubaté -> Aparecida: 42 km\n",
            "Aparecida -> Guaratinguetá: 11 km\n",
            "Guaratinguetá -> Lorena: 16 km\n",
            "Lorena -> Cachoeira Paulista: 15 km\n",
            "Cachoeira Paulista -> Cruzeiro: 10 km\n",
            "Cruzeiro -> Resende: 35 km\n",
            "Resende -> Volta Redonda: 43 km\n",
            "Volta Redonda -> Barra Mansa: 7 km\n",
            "Barra Mansa -> Piraí: 26 km\n",
            "Piraí -> Itaguaí: 46 km\n",
            "Itaguaí -> Rio de Janeiro: 70 km\n"
          ]
        },
        {
          "output_type": "display_data",
          "data": {
            "text/plain": [
              "<Figure size 1200x800 with 1 Axes>"
            ],
            "image/png": "[encoded data removed]"
          },
          "metadata": {}
        }
      ]
    },
    {
      "cell_type": "markdown",
      "source": [
        "#### Cálculo da distância direta entre São Paulo e Rio de Janeiro\n",
        "Calculamos a distância direta (euclidiana) entre São Paulo e Rio de Janeiro utilizando a fórmula de Haversine, que considera a curvatura da Terra. Esta distância será útil como heurística para o algoritmo A*:"
      ],
      "metadata": {
        "id": "pq3Z-gzhwALC"
      }
    },
    {
      "cell_type": "code",
      "source": [
        "import numpy as np\n",
        "\n",
        "# Definindo as coordenadas das cidades (latitude, longitude)\n",
        "coordenadas = {\n",
        "    \"São Paulo\": (-23.5505, -46.6333),\n",
        "    \"Rio de Janeiro\": (-22.9068, -43.1729)\n",
        "}\n",
        "\n",
        "# Calculando a distância direta (euclidiana) entre SP e RJ\n",
        "sp_coords = coordenadas[\"São Paulo\"]\n",
        "rj_coords = coordenadas[\"Rio de Janeiro\"]\n",
        "\n",
        "# Convertendo coordenadas para radianos\n",
        "lat1, lon1 = np.radians(sp_coords[0]), np.radians(sp_coords[1])\n",
        "lat2, lon2 = np.radians(rj_coords[0]), np.radians(rj_coords[1])\n",
        "\n",
        "# Raio médio da Terra em km\n",
        "R = 6371.0\n",
        "\n",
        "# Fórmula de Haversine para cálculo da distância\n",
        "dlon = lon2 - lon1\n",
        "dlat = lat2 - lat1\n",
        "a = np.sin(dlat / 2)**2 + np.cos(lat1) * np.cos(lat2) * np.sin(dlon / 2)**2\n",
        "c = 2 * np.arctan2(np.sqrt(a), np.sqrt(1 - a))\n",
        "distancia_direta = R * c\n",
        "\n",
        "print(f\"Distância em linha reta (Haversine) entre São Paulo e Rio de Janeiro: {distancia_direta:.2f} km\")"
      ],
      "metadata": {
        "colab": {
          "base_uri": "https://localhost:8080/"
        },
        "id": "bbV8Nz8ywHyc",
        "outputId": "a47cbc83-5eaa-40c8-bf58-dd3dd1ff98e1"
      },
      "execution_count": 14,
      "outputs": [
        {
          "output_type": "stream",
          "name": "stdout",
          "text": [
            "Distância em linha reta (Haversine) entre São Paulo e Rio de Janeiro: 360.75 km\n"
          ]
        }
      ]
    },
    {
      "cell_type": "markdown",
      "source": [
        "#### Algoritmo informado a ser implementado na entrega final\n",
        "Para a entrega final, será implementado o algoritmo A* (A-Star) como algoritmo de busca informada:"
      ],
      "metadata": {
        "id": "X1CTo7sTxs0O"
      }
    },
    {
      "cell_type": "markdown",
      "source": [
        "O algoritmo A* é uma extensão do algoritmo de Dijkstra que usa heurísticas para guiar a busca em direção ao objetivo de forma mais eficiente.\n",
        "A função de avaliação f(n) = g(n) + h(n), onde: - g(n) é o custo real do caminho do nó inicial até o nó n, - h(n) é a heurística que estima o custo do nó n até o objetivo.\n",
        "Para este problema, a heurística será a distância em linha reta (distância euclidiana) entre a cidade atual e o destino (Rio de Janeiro), calculada a partir das coordenadas geográficas."
      ],
      "metadata": {
        "id": "JBkzxLklxuj5"
      }
    },
    {
      "cell_type": "markdown",
      "source": [
        "## **2. BFS, Breadth-First Search(2,0)**"
      ],
      "metadata": {
        "id": "6yaBdE9xMvUG"
      }
    },
    {
      "cell_type": "code",
      "source": [
        "# Seus Códigos aqui intercalados de células de texto com comentários"
      ],
      "metadata": {
        "id": "V16vzWA_MvUH"
      },
      "execution_count": null,
      "outputs": []
    },
    {
      "cell_type": "markdown",
      "source": [
        "> ## **2.1. Resultados (Testes)**\n",
        "\n",
        "*Um ou mais testes da solução devem ser apresentados ao final. Comente em células de texto explicativas os testes e os seus resultados.*"
      ],
      "metadata": {
        "id": "G2_xtN1jMvUI"
      }
    },
    {
      "cell_type": "code",
      "source": [
        "# Seus Códigos aqui intercalados de células de texto com comentários"
      ],
      "metadata": {
        "id": "S9w7b7VYMvUI"
      },
      "execution_count": null,
      "outputs": []
    },
    {
      "cell_type": "markdown",
      "source": [
        "## **3. Busca Informada (5,0)**"
      ],
      "metadata": {
        "id": "Ryo3PeXoMwFc"
      }
    },
    {
      "cell_type": "markdown",
      "source": [
        "*Indique aqui em um texto o algoritmo de Busca Informada escolhido e o motivo da escolha.*"
      ],
      "metadata": {
        "id": "De9VgoNINL4c"
      }
    },
    {
      "cell_type": "code",
      "source": [
        "# Seus Códigos aqui intercalados de células de texto com comentários"
      ],
      "metadata": {
        "id": "39FwjR_uMwFd"
      },
      "execution_count": null,
      "outputs": []
    },
    {
      "cell_type": "markdown",
      "source": [
        "> ## **3.1. Resultados (Testes)**\n",
        "\n",
        "*Um ou mais testes da solução devem ser apresentados ao final. Comente em células de texto explicativas os testes e os seus resultados.*"
      ],
      "metadata": {
        "id": "WxOx8CikMwFe"
      }
    },
    {
      "cell_type": "code",
      "source": [
        "# Seus Códigos aqui intercalados de células de texto com comentários"
      ],
      "metadata": {
        "id": "kZgIdUM0MwFf"
      },
      "execution_count": null,
      "outputs": []
    },
    {
      "cell_type": "markdown",
      "source": [
        "# **Referências**\n",
        "\n",
        "Este é um item obrigatório. Inclua aqui o as referências, fontes, ou bibliografia e sites/bibliotecas empregadas em formato ABNT."
      ],
      "metadata": {
        "id": "7LtXrRFr4hg3"
      }
    },
    {
      "cell_type": "markdown",
      "source": [
        "NETWORKX. NetworkX documentation. Disponível em: https://networkx.org/documentation/stable/. Acesso em: 18 mar. 2025.\n",
        "\n",
        "RICWTK. Algoritmos de busca. Disponível em: https://ricwtk.github.io/ai-labs/lab2/. Acesso em: 18 mar. 2025.\n",
        "\n",
        "DERKOWSKI, Jake. Romania Problem AI – Reference Implementation. Disponível em: https://github.com/JakeDerkowski96/RomaniaProblemAI. Acesso em: 18 mar. 2025.\n",
        "\n",
        "GOOGLE MAPS. Coordenadas geográficas das cidades. Disponível em: https://www.google.com/maps. Acesso em: 18 mar. 2025."
      ],
      "metadata": {
        "id": "Ii0fj-SRyCw6"
      }
    },
    {
      "cell_type": "markdown",
      "metadata": {
        "id": "8crUBC3IQ3U_"
      },
      "source": [
        "---"
      ]
    },
    {
      "cell_type": "code",
      "metadata": {
        "id": "BluFtfHuCGzm",
        "cellView": "form"
      },
      "source": [
        "#@title **Avaliação**\n",
        "Resumo = 10 #@param {type:\"slider\", min:0, max:10, step:1}\n",
        "\n",
        "Grafo = 9 #@param {type:\"slider\", min:0, max:10, step:1}\n",
        "\n",
        "BFS = 6 #@param {type:\"slider\", min:0, max:10, step:1}\n",
        "\n",
        "Busca_Informada = 8 #@param {type:\"slider\", min:0, max:10, step:1}\n",
        "\n",
        "Referencias = 7 #@param {type:\"slider\", min:0, max:10, step:1}\n",
        "\n",
        "Geral = 7 #@param {type:\"slider\", min:0, max:10, step:1}\n",
        "\n",
        "\n",
        "\n",
        "\n",
        "\n",
        "\n"
      ],
      "execution_count": null,
      "outputs": []
    },
    {
      "cell_type": "code",
      "metadata": {
        "colab": {
          "base_uri": "https://localhost:8080/",
          "height": 160
        },
        "id": "2Gqw7hUZHyle",
        "cellView": "form",
        "outputId": "ec8f2df6-a121-4a2c-9972-e6a8f38b9bf7"
      },
      "source": [
        "#@title **Nota Final**\n",
        "\n",
        "nota = Resumo + 2*Grafo + 3*BFS + 5*Busca_Informada + Referencias + Geral\n",
        "\n",
        "nota = nota / 13\n",
        "\n",
        "print(f'Nota final do trabalho {nota :.1f}')\n",
        "\n",
        "import numpy as np\n",
        "import pandas as pd\n",
        "\n",
        "alunos = pd.DataFrame()\n",
        "\n",
        "lista_tia = []\n",
        "lista_nome = []\n",
        "\n",
        "for i in range(1,6):\n",
        "  exec(\"if Aluno\" + str(i) + \" !='None':  lista = Aluno\" + str(i) + \".split(','); lista_tia.append(lista[0]); lista_nome.append(lista[1].upper())\")\n",
        "\n",
        "alunos['tia'] = lista_tia\n",
        "alunos['nome'] = lista_nome\n",
        "alunos['nota'] = np.round(nota,1)\n",
        "print()\n",
        "display(alunos)"
      ],
      "execution_count": null,
      "outputs": [
        {
          "output_type": "stream",
          "name": "stdout",
          "text": [
            "Nota final do trabalho 7.7\n",
            "\n"
          ]
        },
        {
          "output_type": "display_data",
          "data": {
            "text/plain": [
              "       tia              nome  nota\n",
              "0  1115665    ADRIANA FUJITA   7.7\n",
              "1  1115677   DANIEL HENRIQUE   7.7"
            ],
            "text/html": [
              "\n",
              "  <div id=\"df-c02535b9-79d8-490e-a9b1-f1d7f4a1be14\" class=\"colab-df-container\">\n",
              "    <div>\n",
              "<style scoped>\n",
              "    .dataframe tbody tr th:only-of-type {\n",
              "        vertical-align: middle;\n",
              "    }\n",
              "\n",
              "    .dataframe tbody tr th {\n",
              "        vertical-align: top;\n",
              "    }\n",
              "\n",
              "    .dataframe thead th {\n",
              "        text-align: right;\n",
              "    }\n",
              "</style>\n",
              "<table border=\"1\" class=\"dataframe\">\n",
              "  <thead>\n",
              "    <tr style=\"text-align: right;\">\n",
              "      <th></th>\n",
              "      <th>tia</th>\n",
              "      <th>nome</th>\n",
              "      <th>nota</th>\n",
              "    </tr>\n",
              "  </thead>\n",
              "  <tbody>\n",
              "    <tr>\n",
              "      <th>0</th>\n",
              "      <td>1115665</td>\n",
              "      <td>ADRIANA FUJITA</td>\n",
              "      <td>7.7</td>\n",
              "    </tr>\n",
              "    <tr>\n",
              "      <th>1</th>\n",
              "      <td>1115677</td>\n",
              "      <td>DANIEL HENRIQUE</td>\n",
              "      <td>7.7</td>\n",
              "    </tr>\n",
              "  </tbody>\n",
              "</table>\n",
              "</div>\n",
              "    <div class=\"colab-df-buttons\">\n",
              "\n",
              "  <div class=\"colab-df-container\">\n",
              "    <button class=\"colab-df-convert\" onclick=\"convertToInteractive('df-c02535b9-79d8-490e-a9b1-f1d7f4a1be14')\"\n",
              "            title=\"Convert this dataframe to an interactive table.\"\n",
              "            style=\"display:none;\">\n",
              "\n",
              "  <svg xmlns=\"http://www.w3.org/2000/svg\" height=\"24px\" viewBox=\"0 -960 960 960\">\n",
              "    <path d=\"M120-120v-720h720v720H120Zm60-500h600v-160H180v160Zm220 220h160v-160H400v160Zm0 220h160v-160H400v160ZM180-400h160v-160H180v160Zm440 0h160v-160H620v160ZM180-180h160v-160H180v160Zm440 0h160v-160H620v160Z\"/>\n",
              "  </svg>\n",
              "    </button>\n",
              "\n",
              "  <style>\n",
              "    .colab-df-container {\n",
              "      display:flex;\n",
              "      gap: 12px;\n",
              "    }\n",
              "\n",
              "    .colab-df-convert {\n",
              "      background-color: #E8F0FE;\n",
              "      border: none;\n",
              "      border-radius: 50%;\n",
              "      cursor: pointer;\n",
              "      display: none;\n",
              "      fill: #1967D2;\n",
              "      height: 32px;\n",
              "      padding: 0 0 0 0;\n",
              "      width: 32px;\n",
              "    }\n",
              "\n",
              "    .colab-df-convert:hover {\n",
              "      background-color: #E2EBFA;\n",
              "      box-shadow: 0px 1px 2px rgba(60, 64, 67, 0.3), 0px 1px 3px 1px rgba(60, 64, 67, 0.15);\n",
              "      fill: #174EA6;\n",
              "    }\n",
              "\n",
              "    .colab-df-buttons div {\n",
              "      margin-bottom: 4px;\n",
              "    }\n",
              "\n",
              "    [theme=dark] .colab-df-convert {\n",
              "      background-color: #3B4455;\n",
              "      fill: #D2E3FC;\n",
              "    }\n",
              "\n",
              "    [theme=dark] .colab-df-convert:hover {\n",
              "      background-color: #434B5C;\n",
              "      box-shadow: 0px 1px 3px 1px rgba(0, 0, 0, 0.15);\n",
              "      filter: drop-shadow(0px 1px 2px rgba(0, 0, 0, 0.3));\n",
              "      fill: #FFFFFF;\n",
              "    }\n",
              "  </style>\n",
              "\n",
              "    <script>\n",
              "      const buttonEl =\n",
              "        document.querySelector('#df-c02535b9-79d8-490e-a9b1-f1d7f4a1be14 button.colab-df-convert');\n",
              "      buttonEl.style.display =\n",
              "        google.colab.kernel.accessAllowed ? 'block' : 'none';\n",
              "\n",
              "      async function convertToInteractive(key) {\n",
              "        const element = document.querySelector('#df-c02535b9-79d8-490e-a9b1-f1d7f4a1be14');\n",
              "        const dataTable =\n",
              "          await google.colab.kernel.invokeFunction('convertToInteractive',\n",
              "                                                    [key], {});\n",
              "        if (!dataTable) return;\n",
              "\n",
              "        const docLinkHtml = 'Like what you see? Visit the ' +\n",
              "          '<a target=\"_blank\" href=https://colab.research.google.com/notebooks/data_table.ipynb>data table notebook</a>'\n",
              "          + ' to learn more about interactive tables.';\n",
              "        element.innerHTML = '';\n",
              "        dataTable['output_type'] = 'display_data';\n",
              "        await google.colab.output.renderOutput(dataTable, element);\n",
              "        const docLink = document.createElement('div');\n",
              "        docLink.innerHTML = docLinkHtml;\n",
              "        element.appendChild(docLink);\n",
              "      }\n",
              "    </script>\n",
              "  </div>\n",
              "\n",
              "\n",
              "<div id=\"df-d549a65d-dcca-4332-a206-81d4cc5dfa4f\">\n",
              "  <button class=\"colab-df-quickchart\" onclick=\"quickchart('df-d549a65d-dcca-4332-a206-81d4cc5dfa4f')\"\n",
              "            title=\"Suggest charts\"\n",
              "            style=\"display:none;\">\n",
              "\n",
              "<svg xmlns=\"http://www.w3.org/2000/svg\" height=\"24px\"viewBox=\"0 0 24 24\"\n",
              "     width=\"24px\">\n",
              "    <g>\n",
              "        <path d=\"M19 3H5c-1.1 0-2 .9-2 2v14c0 1.1.9 2 2 2h14c1.1 0 2-.9 2-2V5c0-1.1-.9-2-2-2zM9 17H7v-7h2v7zm4 0h-2V7h2v10zm4 0h-2v-4h2v4z\"/>\n",
              "    </g>\n",
              "</svg>\n",
              "  </button>\n",
              "\n",
              "<style>\n",
              "  .colab-df-quickchart {\n",
              "      --bg-color: #E8F0FE;\n",
              "      --fill-color: #1967D2;\n",
              "      --hover-bg-color: #E2EBFA;\n",
              "      --hover-fill-color: #174EA6;\n",
              "      --disabled-fill-color: #AAA;\n",
              "      --disabled-bg-color: #DDD;\n",
              "  }\n",
              "\n",
              "  [theme=dark] .colab-df-quickchart {\n",
              "      --bg-color: #3B4455;\n",
              "      --fill-color: #D2E3FC;\n",
              "      --hover-bg-color: #434B5C;\n",
              "      --hover-fill-color: #FFFFFF;\n",
              "      --disabled-bg-color: #3B4455;\n",
              "      --disabled-fill-color: #666;\n",
              "  }\n",
              "\n",
              "  .colab-df-quickchart {\n",
              "    background-color: var(--bg-color);\n",
              "    border: none;\n",
              "    border-radius: 50%;\n",
              "    cursor: pointer;\n",
              "    display: none;\n",
              "    fill: var(--fill-color);\n",
              "    height: 32px;\n",
              "    padding: 0;\n",
              "    width: 32px;\n",
              "  }\n",
              "\n",
              "  .colab-df-quickchart:hover {\n",
              "    background-color: var(--hover-bg-color);\n",
              "    box-shadow: 0 1px 2px rgba(60, 64, 67, 0.3), 0 1px 3px 1px rgba(60, 64, 67, 0.15);\n",
              "    fill: var(--button-hover-fill-color);\n",
              "  }\n",
              "\n",
              "  .colab-df-quickchart-complete:disabled,\n",
              "  .colab-df-quickchart-complete:disabled:hover {\n",
              "    background-color: var(--disabled-bg-color);\n",
              "    fill: var(--disabled-fill-color);\n",
              "    box-shadow: none;\n",
              "  }\n",
              "\n",
              "  .colab-df-spinner {\n",
              "    border: 2px solid var(--fill-color);\n",
              "    border-color: transparent;\n",
              "    border-bottom-color: var(--fill-color);\n",
              "    animation:\n",
              "      spin 1s steps(1) infinite;\n",
              "  }\n",
              "\n",
              "  @keyframes spin {\n",
              "    0% {\n",
              "      border-color: transparent;\n",
              "      border-bottom-color: var(--fill-color);\n",
              "      border-left-color: var(--fill-color);\n",
              "    }\n",
              "    20% {\n",
              "      border-color: transparent;\n",
              "      border-left-color: var(--fill-color);\n",
              "      border-top-color: var(--fill-color);\n",
              "    }\n",
              "    30% {\n",
              "      border-color: transparent;\n",
              "      border-left-color: var(--fill-color);\n",
              "      border-top-color: var(--fill-color);\n",
              "      border-right-color: var(--fill-color);\n",
              "    }\n",
              "    40% {\n",
              "      border-color: transparent;\n",
              "      border-right-color: var(--fill-color);\n",
              "      border-top-color: var(--fill-color);\n",
              "    }\n",
              "    60% {\n",
              "      border-color: transparent;\n",
              "      border-right-color: var(--fill-color);\n",
              "    }\n",
              "    80% {\n",
              "      border-color: transparent;\n",
              "      border-right-color: var(--fill-color);\n",
              "      border-bottom-color: var(--fill-color);\n",
              "    }\n",
              "    90% {\n",
              "      border-color: transparent;\n",
              "      border-bottom-color: var(--fill-color);\n",
              "    }\n",
              "  }\n",
              "</style>\n",
              "\n",
              "  <script>\n",
              "    async function quickchart(key) {\n",
              "      const quickchartButtonEl =\n",
              "        document.querySelector('#' + key + ' button');\n",
              "      quickchartButtonEl.disabled = true;  // To prevent multiple clicks.\n",
              "      quickchartButtonEl.classList.add('colab-df-spinner');\n",
              "      try {\n",
              "        const charts = await google.colab.kernel.invokeFunction(\n",
              "            'suggestCharts', [key], {});\n",
              "      } catch (error) {\n",
              "        console.error('Error during call to suggestCharts:', error);\n",
              "      }\n",
              "      quickchartButtonEl.classList.remove('colab-df-spinner');\n",
              "      quickchartButtonEl.classList.add('colab-df-quickchart-complete');\n",
              "    }\n",
              "    (() => {\n",
              "      let quickchartButtonEl =\n",
              "        document.querySelector('#df-d549a65d-dcca-4332-a206-81d4cc5dfa4f button');\n",
              "      quickchartButtonEl.style.display =\n",
              "        google.colab.kernel.accessAllowed ? 'block' : 'none';\n",
              "    })();\n",
              "  </script>\n",
              "</div>\n",
              "\n",
              "  <div id=\"id_767f25c7-3015-4af7-9d5b-1f12893fb16b\">\n",
              "    <style>\n",
              "      .colab-df-generate {\n",
              "        background-color: #E8F0FE;\n",
              "        border: none;\n",
              "        border-radius: 50%;\n",
              "        cursor: pointer;\n",
              "        display: none;\n",
              "        fill: #1967D2;\n",
              "        height: 32px;\n",
              "        padding: 0 0 0 0;\n",
              "        width: 32px;\n",
              "      }\n",
              "\n",
              "      .colab-df-generate:hover {\n",
              "        background-color: #E2EBFA;\n",
              "        box-shadow: 0px 1px 2px rgba(60, 64, 67, 0.3), 0px 1px 3px 1px rgba(60, 64, 67, 0.15);\n",
              "        fill: #174EA6;\n",
              "      }\n",
              "\n",
              "      [theme=dark] .colab-df-generate {\n",
              "        background-color: #3B4455;\n",
              "        fill: #D2E3FC;\n",
              "      }\n",
              "\n",
              "      [theme=dark] .colab-df-generate:hover {\n",
              "        background-color: #434B5C;\n",
              "        box-shadow: 0px 1px 3px 1px rgba(0, 0, 0, 0.15);\n",
              "        filter: drop-shadow(0px 1px 2px rgba(0, 0, 0, 0.3));\n",
              "        fill: #FFFFFF;\n",
              "      }\n",
              "    </style>\n",
              "    <button class=\"colab-df-generate\" onclick=\"generateWithVariable('alunos')\"\n",
              "            title=\"Generate code using this dataframe.\"\n",
              "            style=\"display:none;\">\n",
              "\n",
              "  <svg xmlns=\"http://www.w3.org/2000/svg\" height=\"24px\"viewBox=\"0 0 24 24\"\n",
              "       width=\"24px\">\n",
              "    <path d=\"M7,19H8.4L18.45,9,17,7.55,7,17.6ZM5,21V16.75L18.45,3.32a2,2,0,0,1,2.83,0l1.4,1.43a1.91,1.91,0,0,1,.58,1.4,1.91,1.91,0,0,1-.58,1.4L9.25,21ZM18.45,9,17,7.55Zm-12,3A5.31,5.31,0,0,0,4.9,8.1,5.31,5.31,0,0,0,1,6.5,5.31,5.31,0,0,0,4.9,4.9,5.31,5.31,0,0,0,6.5,1,5.31,5.31,0,0,0,8.1,4.9,5.31,5.31,0,0,0,12,6.5,5.46,5.46,0,0,0,6.5,12Z\"/>\n",
              "  </svg>\n",
              "    </button>\n",
              "    <script>\n",
              "      (() => {\n",
              "      const buttonEl =\n",
              "        document.querySelector('#id_767f25c7-3015-4af7-9d5b-1f12893fb16b button.colab-df-generate');\n",
              "      buttonEl.style.display =\n",
              "        google.colab.kernel.accessAllowed ? 'block' : 'none';\n",
              "\n",
              "      buttonEl.onclick = () => {\n",
              "        google.colab.notebook.generateWithVariable('alunos');\n",
              "      }\n",
              "      })();\n",
              "    </script>\n",
              "  </div>\n",
              "\n",
              "    </div>\n",
              "  </div>\n"
            ],
            "application/vnd.google.colaboratory.intrinsic+json": {
              "type": "dataframe",
              "variable_name": "alunos",
              "summary": "{\n  \"name\": \"alunos\",\n  \"rows\": 2,\n  \"fields\": [\n    {\n      \"column\": \"tia\",\n      \"properties\": {\n        \"dtype\": \"string\",\n        \"num_unique_values\": 2,\n        \"samples\": [\n          \"1115677\",\n          \"1115665\"\n        ],\n        \"semantic_type\": \"\",\n        \"description\": \"\"\n      }\n    },\n    {\n      \"column\": \"nome\",\n      \"properties\": {\n        \"dtype\": \"string\",\n        \"num_unique_values\": 2,\n        \"samples\": [\n          \" DANIEL HENRIQUE\",\n          \" ADRIANA FUJITA\"\n        ],\n        \"semantic_type\": \"\",\n        \"description\": \"\"\n      }\n    },\n    {\n      \"column\": \"nota\",\n      \"properties\": {\n        \"dtype\": \"number\",\n        \"std\": 0.0,\n        \"min\": 7.7,\n        \"max\": 7.7,\n        \"num_unique_values\": 1,\n        \"samples\": [\n          7.7\n        ],\n        \"semantic_type\": \"\",\n        \"description\": \"\"\n      }\n    }\n  ]\n}"
            }
          },
          "metadata": {}
        }
      ]
    }
  ]
}